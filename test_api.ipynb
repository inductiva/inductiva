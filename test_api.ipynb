{
 "cells": [
  {
   "cell_type": "code",
   "execution_count": 9,
   "metadata": {},
   "outputs": [],
   "source": [
    "import inductiva \n",
    "inductiva.api_key = '1234'\n",
    "inductiva.api_url = 'http://localhost:8000'\n",
    "\n",
    "inductiva.api_key = \"f5fdbca269c26a7ff48a0fb041b1a1e8f532d5a48bf60c6a95c90f812612acc1\"\n",
    "inductiva.api_url = \"https://api-dev.inductiva.ai\""
   ]
  },
  {
   "cell_type": "code",
   "execution_count": 10,
   "metadata": {},
   "outputs": [
    {
     "name": "stderr",
     "output_type": "stream",
     "text": [
      "INFO:absl:Registering machine group configuration with the API.\n",
      "INFO:absl:Registered machine group:\n",
      "INFO:absl: > ID: 861f71f1-a530-458b-9135-99d33dc12a2e\n",
      "INFO:absl: > Name: api-861f71f1-a530-458b-9135-99d33dc12a2e\n",
      "INFO:absl:Estimated cloud cost per hour: 0.23 $/h\n",
      "INFO:absl:Starting a machine group. This may take up to a few minutes.\n",
      "INFO:absl:Note that stopping this local process will not interrupt the creation of the machine group. Please wait...\n"
     ]
    },
    {
     "ename": "KeyboardInterrupt",
     "evalue": "",
     "output_type": "error",
     "traceback": [
      "\u001b[0;31m---------------------------------------------------------------------------\u001b[0m",
      "\u001b[0;31mKeyboardInterrupt\u001b[0m                         Traceback (most recent call last)",
      "Cell \u001b[0;32mIn[10], line 12\u001b[0m\n\u001b[1;32m      9\u001b[0m price_per_hour \u001b[39m=\u001b[39m mg\u001b[39m.\u001b[39mestimate_cloud_cost()\n\u001b[1;32m     11\u001b[0m \u001b[39m# Start the machines\u001b[39;00m\n\u001b[0;32m---> 12\u001b[0m mg\u001b[39m.\u001b[39;49mstart()\n",
      "File \u001b[0;32m~/Documents/inductiva/inductiva/resources/machines.py:121\u001b[0m, in \u001b[0;36mMachineGroup.start\u001b[0;34m(self)\u001b[0m\n\u001b[1;32m    119\u001b[0m \u001b[39mself\u001b[39m\u001b[39m.\u001b[39m_started \u001b[39m=\u001b[39m \u001b[39mTrue\u001b[39;00m\n\u001b[1;32m    120\u001b[0m start_time \u001b[39m=\u001b[39m time\u001b[39m.\u001b[39mtime()\n\u001b[0;32m--> 121\u001b[0m \u001b[39mself\u001b[39;49m\u001b[39m.\u001b[39;49m_api\u001b[39m.\u001b[39;49mstart_instance_group(body\u001b[39m=\u001b[39;49mrequest_body)\n\u001b[1;32m    122\u001b[0m creation_time_mins \u001b[39m=\u001b[39m (time\u001b[39m.\u001b[39mtime() \u001b[39m-\u001b[39m start_time) \u001b[39m/\u001b[39m \u001b[39m60\u001b[39m\n\u001b[1;32m    124\u001b[0m logging\u001b[39m.\u001b[39minfo(\u001b[39m\"\u001b[39m\u001b[39mMachine group successfully started in \u001b[39m\u001b[39m%.2f\u001b[39;00m\u001b[39m mins.\u001b[39m\u001b[39m\"\u001b[39m,\n\u001b[1;32m    125\u001b[0m              creation_time_mins)\n",
      "File \u001b[0;32m~/Documents/inductiva/inductiva/client/paths/gcp_instances_group_start/post.py:304\u001b[0m, in \u001b[0;36mStartInstanceGroup.start_instance_group\u001b[0;34m(self, body, content_type, accept_content_types, stream, timeout, skip_deserialization)\u001b[0m\n\u001b[1;32m    293\u001b[0m \u001b[39mdef\u001b[39;00m \u001b[39mstart_instance_group\u001b[39m(\n\u001b[1;32m    294\u001b[0m     \u001b[39mself\u001b[39m,\n\u001b[1;32m    295\u001b[0m     body: typing\u001b[39m.\u001b[39mUnion[\n\u001b[0;32m   (...)\u001b[0m\n\u001b[1;32m    302\u001b[0m     skip_deserialization: \u001b[39mbool\u001b[39m \u001b[39m=\u001b[39m \u001b[39mFalse\u001b[39;00m,\n\u001b[1;32m    303\u001b[0m ):\n\u001b[0;32m--> 304\u001b[0m     \u001b[39mreturn\u001b[39;00m \u001b[39mself\u001b[39;49m\u001b[39m.\u001b[39;49m_start_instance_group_oapg(\n\u001b[1;32m    305\u001b[0m         body\u001b[39m=\u001b[39;49mbody,\n\u001b[1;32m    306\u001b[0m         content_type\u001b[39m=\u001b[39;49mcontent_type,\n\u001b[1;32m    307\u001b[0m         accept_content_types\u001b[39m=\u001b[39;49maccept_content_types,\n\u001b[1;32m    308\u001b[0m         stream\u001b[39m=\u001b[39;49mstream,\n\u001b[1;32m    309\u001b[0m         timeout\u001b[39m=\u001b[39;49mtimeout,\n\u001b[1;32m    310\u001b[0m         skip_deserialization\u001b[39m=\u001b[39;49mskip_deserialization)\n",
      "File \u001b[0;32m~/Documents/inductiva/inductiva/client/paths/gcp_instances_group_start/post.py:195\u001b[0m, in \u001b[0;36mBaseApi._start_instance_group_oapg\u001b[0;34m(self, body, content_type, accept_content_types, stream, timeout, skip_deserialization)\u001b[0m\n\u001b[1;32m    193\u001b[0m \u001b[39melif\u001b[39;00m \u001b[39m'\u001b[39m\u001b[39mbody\u001b[39m\u001b[39m'\u001b[39m \u001b[39min\u001b[39;00m serialized_data:\n\u001b[1;32m    194\u001b[0m     _body \u001b[39m=\u001b[39m serialized_data[\u001b[39m'\u001b[39m\u001b[39mbody\u001b[39m\u001b[39m'\u001b[39m]\n\u001b[0;32m--> 195\u001b[0m response \u001b[39m=\u001b[39m \u001b[39mself\u001b[39;49m\u001b[39m.\u001b[39;49mapi_client\u001b[39m.\u001b[39;49mcall_api(\n\u001b[1;32m    196\u001b[0m     resource_path\u001b[39m=\u001b[39;49mused_path,\n\u001b[1;32m    197\u001b[0m     method\u001b[39m=\u001b[39;49m\u001b[39m'\u001b[39;49m\u001b[39mpost\u001b[39;49m\u001b[39m'\u001b[39;49m\u001b[39m.\u001b[39;49mupper(),\n\u001b[1;32m    198\u001b[0m     headers\u001b[39m=\u001b[39;49m_headers,\n\u001b[1;32m    199\u001b[0m     fields\u001b[39m=\u001b[39;49m_fields,\n\u001b[1;32m    200\u001b[0m     body\u001b[39m=\u001b[39;49m_body,\n\u001b[1;32m    201\u001b[0m     auth_settings\u001b[39m=\u001b[39;49m_auth,\n\u001b[1;32m    202\u001b[0m     stream\u001b[39m=\u001b[39;49mstream,\n\u001b[1;32m    203\u001b[0m     timeout\u001b[39m=\u001b[39;49mtimeout,\n\u001b[1;32m    204\u001b[0m )\n\u001b[1;32m    206\u001b[0m \u001b[39mif\u001b[39;00m skip_deserialization:\n\u001b[1;32m    207\u001b[0m     api_response \u001b[39m=\u001b[39m api_client\u001b[39m.\u001b[39mApiResponseWithoutDeserialization(\n\u001b[1;32m    208\u001b[0m         response\u001b[39m=\u001b[39mresponse)\n",
      "File \u001b[0;32m~/Documents/inductiva/inductiva/client/api_client.py:1122\u001b[0m, in \u001b[0;36mApiClient.call_api\u001b[0;34m(self, resource_path, method, headers, body, fields, auth_settings, async_req, stream, timeout, host)\u001b[0m\n\u001b[1;32m   1087\u001b[0m \u001b[39m\u001b[39m\u001b[39m\"\"\"Makes the HTTP request (synchronous) and returns deserialized data.\u001b[39;00m\n\u001b[1;32m   1088\u001b[0m \n\u001b[1;32m   1089\u001b[0m \u001b[39mTo make an async_req request, set the async_req parameter.\u001b[39;00m\n\u001b[0;32m   (...)\u001b[0m\n\u001b[1;32m   1118\u001b[0m \u001b[39m    then the method will return the response directly.\u001b[39;00m\n\u001b[1;32m   1119\u001b[0m \u001b[39m\"\"\"\u001b[39;00m\n\u001b[1;32m   1121\u001b[0m \u001b[39mif\u001b[39;00m \u001b[39mnot\u001b[39;00m async_req:\n\u001b[0;32m-> 1122\u001b[0m     \u001b[39mreturn\u001b[39;00m \u001b[39mself\u001b[39;49m\u001b[39m.\u001b[39;49m__call_api(\n\u001b[1;32m   1123\u001b[0m         resource_path,\n\u001b[1;32m   1124\u001b[0m         method,\n\u001b[1;32m   1125\u001b[0m         headers,\n\u001b[1;32m   1126\u001b[0m         body,\n\u001b[1;32m   1127\u001b[0m         fields,\n\u001b[1;32m   1128\u001b[0m         auth_settings,\n\u001b[1;32m   1129\u001b[0m         stream,\n\u001b[1;32m   1130\u001b[0m         timeout,\n\u001b[1;32m   1131\u001b[0m         host,\n\u001b[1;32m   1132\u001b[0m     )\n\u001b[1;32m   1134\u001b[0m \u001b[39mreturn\u001b[39;00m \u001b[39mself\u001b[39m\u001b[39m.\u001b[39mpool\u001b[39m.\u001b[39mapply_async(\u001b[39mself\u001b[39m\u001b[39m.\u001b[39m__call_api, (\n\u001b[1;32m   1135\u001b[0m     resource_path,\n\u001b[1;32m   1136\u001b[0m     method,\n\u001b[0;32m   (...)\u001b[0m\n\u001b[1;32m   1144\u001b[0m     host,\n\u001b[1;32m   1145\u001b[0m ))\n",
      "File \u001b[0;32m~/Documents/inductiva/inductiva/client/api_client.py:1062\u001b[0m, in \u001b[0;36mApiClient.__call_api\u001b[0;34m(self, resource_path, method, headers, body, fields, auth_settings, stream, timeout, host)\u001b[0m\n\u001b[1;32m   1059\u001b[0m     url \u001b[39m=\u001b[39m host \u001b[39m+\u001b[39m resource_path\n\u001b[1;32m   1061\u001b[0m \u001b[39m# perform request and return response\u001b[39;00m\n\u001b[0;32m-> 1062\u001b[0m response \u001b[39m=\u001b[39m \u001b[39mself\u001b[39;49m\u001b[39m.\u001b[39;49mrequest(\n\u001b[1;32m   1063\u001b[0m     method,\n\u001b[1;32m   1064\u001b[0m     url,\n\u001b[1;32m   1065\u001b[0m     headers\u001b[39m=\u001b[39;49mused_headers,\n\u001b[1;32m   1066\u001b[0m     fields\u001b[39m=\u001b[39;49mfields,\n\u001b[1;32m   1067\u001b[0m     body\u001b[39m=\u001b[39;49mbody,\n\u001b[1;32m   1068\u001b[0m     stream\u001b[39m=\u001b[39;49mstream,\n\u001b[1;32m   1069\u001b[0m     timeout\u001b[39m=\u001b[39;49mtimeout,\n\u001b[1;32m   1070\u001b[0m )\n\u001b[1;32m   1071\u001b[0m \u001b[39mreturn\u001b[39;00m response\n",
      "File \u001b[0;32m~/Documents/inductiva/inductiva/client/api_client.py:1177\u001b[0m, in \u001b[0;36mApiClient.request\u001b[0;34m(self, method, url, headers, fields, body, stream, timeout)\u001b[0m\n\u001b[1;32m   1170\u001b[0m     \u001b[39mreturn\u001b[39;00m \u001b[39mself\u001b[39m\u001b[39m.\u001b[39mrest_client\u001b[39m.\u001b[39mOPTIONS(url,\n\u001b[1;32m   1171\u001b[0m                                     headers\u001b[39m=\u001b[39mheaders,\n\u001b[1;32m   1172\u001b[0m                                     fields\u001b[39m=\u001b[39mfields,\n\u001b[1;32m   1173\u001b[0m                                     stream\u001b[39m=\u001b[39mstream,\n\u001b[1;32m   1174\u001b[0m                                     timeout\u001b[39m=\u001b[39mtimeout,\n\u001b[1;32m   1175\u001b[0m                                     body\u001b[39m=\u001b[39mbody)\n\u001b[1;32m   1176\u001b[0m \u001b[39melif\u001b[39;00m method \u001b[39m==\u001b[39m \u001b[39m\"\u001b[39m\u001b[39mPOST\u001b[39m\u001b[39m\"\u001b[39m:\n\u001b[0;32m-> 1177\u001b[0m     \u001b[39mreturn\u001b[39;00m \u001b[39mself\u001b[39;49m\u001b[39m.\u001b[39;49mrest_client\u001b[39m.\u001b[39;49mPOST(url,\n\u001b[1;32m   1178\u001b[0m                                  headers\u001b[39m=\u001b[39;49mheaders,\n\u001b[1;32m   1179\u001b[0m                                  fields\u001b[39m=\u001b[39;49mfields,\n\u001b[1;32m   1180\u001b[0m                                  stream\u001b[39m=\u001b[39;49mstream,\n\u001b[1;32m   1181\u001b[0m                                  timeout\u001b[39m=\u001b[39;49mtimeout,\n\u001b[1;32m   1182\u001b[0m                                  body\u001b[39m=\u001b[39;49mbody)\n\u001b[1;32m   1183\u001b[0m \u001b[39melif\u001b[39;00m method \u001b[39m==\u001b[39m \u001b[39m\"\u001b[39m\u001b[39mPUT\u001b[39m\u001b[39m\"\u001b[39m:\n\u001b[1;32m   1184\u001b[0m     \u001b[39mreturn\u001b[39;00m \u001b[39mself\u001b[39m\u001b[39m.\u001b[39mrest_client\u001b[39m.\u001b[39mPUT(url,\n\u001b[1;32m   1185\u001b[0m                                 headers\u001b[39m=\u001b[39mheaders,\n\u001b[1;32m   1186\u001b[0m                                 fields\u001b[39m=\u001b[39mfields,\n\u001b[1;32m   1187\u001b[0m                                 stream\u001b[39m=\u001b[39mstream,\n\u001b[1;32m   1188\u001b[0m                                 timeout\u001b[39m=\u001b[39mtimeout,\n\u001b[1;32m   1189\u001b[0m                                 body\u001b[39m=\u001b[39mbody)\n",
      "File \u001b[0;32m~/Documents/inductiva/inductiva/client/rest.py:264\u001b[0m, in \u001b[0;36mRESTClientObject.POST\u001b[0;34m(self, url, headers, body, stream, timeout, fields)\u001b[0m\n\u001b[1;32m    257\u001b[0m \u001b[39mdef\u001b[39;00m \u001b[39mPOST\u001b[39m(\u001b[39mself\u001b[39m,\n\u001b[1;32m    258\u001b[0m          url,\n\u001b[1;32m    259\u001b[0m          headers\u001b[39m=\u001b[39m\u001b[39mNone\u001b[39;00m,\n\u001b[0;32m   (...)\u001b[0m\n\u001b[1;32m    262\u001b[0m          timeout\u001b[39m=\u001b[39m\u001b[39mNone\u001b[39;00m,\n\u001b[1;32m    263\u001b[0m          fields\u001b[39m=\u001b[39m\u001b[39mNone\u001b[39;00m) \u001b[39m-\u001b[39m\u001b[39m>\u001b[39m urllib3\u001b[39m.\u001b[39mHTTPResponse:\n\u001b[0;32m--> 264\u001b[0m     \u001b[39mreturn\u001b[39;00m \u001b[39mself\u001b[39;49m\u001b[39m.\u001b[39;49mrequest(\u001b[39m\"\u001b[39;49m\u001b[39mPOST\u001b[39;49m\u001b[39m\"\u001b[39;49m,\n\u001b[1;32m    265\u001b[0m                         url,\n\u001b[1;32m    266\u001b[0m                         headers\u001b[39m=\u001b[39;49mheaders,\n\u001b[1;32m    267\u001b[0m                         stream\u001b[39m=\u001b[39;49mstream,\n\u001b[1;32m    268\u001b[0m                         timeout\u001b[39m=\u001b[39;49mtimeout,\n\u001b[1;32m    269\u001b[0m                         body\u001b[39m=\u001b[39;49mbody,\n\u001b[1;32m    270\u001b[0m                         fields\u001b[39m=\u001b[39;49mfields)\n",
      "File \u001b[0;32m~/Documents/inductiva/inductiva/client/rest.py:172\u001b[0m, in \u001b[0;36mRESTClientObject.request\u001b[0;34m(self, method, url, headers, fields, body, stream, timeout)\u001b[0m\n\u001b[1;32m    170\u001b[0m \u001b[39melif\u001b[39;00m \u001b[39misinstance\u001b[39m(body, \u001b[39mstr\u001b[39m) \u001b[39mor\u001b[39;00m \u001b[39misinstance\u001b[39m(body, \u001b[39mbytes\u001b[39m):\n\u001b[1;32m    171\u001b[0m     request_body \u001b[39m=\u001b[39m body\n\u001b[0;32m--> 172\u001b[0m     r \u001b[39m=\u001b[39m \u001b[39mself\u001b[39;49m\u001b[39m.\u001b[39;49mpool_manager\u001b[39m.\u001b[39;49mrequest(method,\n\u001b[1;32m    173\u001b[0m                                   url,\n\u001b[1;32m    174\u001b[0m                                   body\u001b[39m=\u001b[39;49mrequest_body,\n\u001b[1;32m    175\u001b[0m                                   preload_content\u001b[39m=\u001b[39;49m\u001b[39mnot\u001b[39;49;00m stream,\n\u001b[1;32m    176\u001b[0m                                   timeout\u001b[39m=\u001b[39;49mtimeout,\n\u001b[1;32m    177\u001b[0m                                   headers\u001b[39m=\u001b[39;49mheaders)\n\u001b[1;32m    178\u001b[0m \u001b[39melse\u001b[39;00m:\n\u001b[1;32m    179\u001b[0m     \u001b[39m# Cannot generate the request from given parameters\u001b[39;00m\n\u001b[1;32m    180\u001b[0m     msg \u001b[39m=\u001b[39m \u001b[39m\"\"\"\u001b[39m\u001b[39mCannot prepare a request message for provided\u001b[39m\n\u001b[1;32m    181\u001b[0m \u001b[39m             arguments. Please check that your arguments match\u001b[39m\n\u001b[1;32m    182\u001b[0m \u001b[39m             declared content type.\u001b[39m\u001b[39m\"\"\"\u001b[39m\n",
      "File \u001b[0;32m~/miniconda3/envs/client/lib/python3.10/site-packages/urllib3/request.py:81\u001b[0m, in \u001b[0;36mRequestMethods.request\u001b[0;34m(self, method, url, fields, headers, **urlopen_kw)\u001b[0m\n\u001b[1;32m     77\u001b[0m     \u001b[39mreturn\u001b[39;00m \u001b[39mself\u001b[39m\u001b[39m.\u001b[39mrequest_encode_url(\n\u001b[1;32m     78\u001b[0m         method, url, fields\u001b[39m=\u001b[39mfields, headers\u001b[39m=\u001b[39mheaders, \u001b[39m*\u001b[39m\u001b[39m*\u001b[39murlopen_kw\n\u001b[1;32m     79\u001b[0m     )\n\u001b[1;32m     80\u001b[0m \u001b[39melse\u001b[39;00m:\n\u001b[0;32m---> 81\u001b[0m     \u001b[39mreturn\u001b[39;00m \u001b[39mself\u001b[39;49m\u001b[39m.\u001b[39;49mrequest_encode_body(\n\u001b[1;32m     82\u001b[0m         method, url, fields\u001b[39m=\u001b[39;49mfields, headers\u001b[39m=\u001b[39;49mheaders, \u001b[39m*\u001b[39;49m\u001b[39m*\u001b[39;49murlopen_kw\n\u001b[1;32m     83\u001b[0m     )\n",
      "File \u001b[0;32m~/miniconda3/envs/client/lib/python3.10/site-packages/urllib3/request.py:173\u001b[0m, in \u001b[0;36mRequestMethods.request_encode_body\u001b[0;34m(self, method, url, fields, headers, encode_multipart, multipart_boundary, **urlopen_kw)\u001b[0m\n\u001b[1;32m    170\u001b[0m extra_kw[\u001b[39m\"\u001b[39m\u001b[39mheaders\u001b[39m\u001b[39m\"\u001b[39m]\u001b[39m.\u001b[39mupdate(headers)\n\u001b[1;32m    171\u001b[0m extra_kw\u001b[39m.\u001b[39mupdate(urlopen_kw)\n\u001b[0;32m--> 173\u001b[0m \u001b[39mreturn\u001b[39;00m \u001b[39mself\u001b[39;49m\u001b[39m.\u001b[39;49murlopen(method, url, \u001b[39m*\u001b[39;49m\u001b[39m*\u001b[39;49mextra_kw)\n",
      "File \u001b[0;32m~/miniconda3/envs/client/lib/python3.10/site-packages/urllib3/poolmanager.py:376\u001b[0m, in \u001b[0;36mPoolManager.urlopen\u001b[0;34m(self, method, url, redirect, **kw)\u001b[0m\n\u001b[1;32m    374\u001b[0m     response \u001b[39m=\u001b[39m conn\u001b[39m.\u001b[39murlopen(method, url, \u001b[39m*\u001b[39m\u001b[39m*\u001b[39mkw)\n\u001b[1;32m    375\u001b[0m \u001b[39melse\u001b[39;00m:\n\u001b[0;32m--> 376\u001b[0m     response \u001b[39m=\u001b[39m conn\u001b[39m.\u001b[39;49murlopen(method, u\u001b[39m.\u001b[39;49mrequest_uri, \u001b[39m*\u001b[39;49m\u001b[39m*\u001b[39;49mkw)\n\u001b[1;32m    378\u001b[0m redirect_location \u001b[39m=\u001b[39m redirect \u001b[39mand\u001b[39;00m response\u001b[39m.\u001b[39mget_redirect_location()\n\u001b[1;32m    379\u001b[0m \u001b[39mif\u001b[39;00m \u001b[39mnot\u001b[39;00m redirect_location:\n",
      "File \u001b[0;32m~/miniconda3/envs/client/lib/python3.10/site-packages/urllib3/connectionpool.py:714\u001b[0m, in \u001b[0;36mHTTPConnectionPool.urlopen\u001b[0;34m(self, method, url, body, headers, retries, redirect, assert_same_host, timeout, pool_timeout, release_conn, chunked, body_pos, **response_kw)\u001b[0m\n\u001b[1;32m    711\u001b[0m     \u001b[39mself\u001b[39m\u001b[39m.\u001b[39m_prepare_proxy(conn)\n\u001b[1;32m    713\u001b[0m \u001b[39m# Make the request on the httplib connection object.\u001b[39;00m\n\u001b[0;32m--> 714\u001b[0m httplib_response \u001b[39m=\u001b[39m \u001b[39mself\u001b[39;49m\u001b[39m.\u001b[39;49m_make_request(\n\u001b[1;32m    715\u001b[0m     conn,\n\u001b[1;32m    716\u001b[0m     method,\n\u001b[1;32m    717\u001b[0m     url,\n\u001b[1;32m    718\u001b[0m     timeout\u001b[39m=\u001b[39;49mtimeout_obj,\n\u001b[1;32m    719\u001b[0m     body\u001b[39m=\u001b[39;49mbody,\n\u001b[1;32m    720\u001b[0m     headers\u001b[39m=\u001b[39;49mheaders,\n\u001b[1;32m    721\u001b[0m     chunked\u001b[39m=\u001b[39;49mchunked,\n\u001b[1;32m    722\u001b[0m )\n\u001b[1;32m    724\u001b[0m \u001b[39m# If we're going to release the connection in ``finally:``, then\u001b[39;00m\n\u001b[1;32m    725\u001b[0m \u001b[39m# the response doesn't need to know about the connection. Otherwise\u001b[39;00m\n\u001b[1;32m    726\u001b[0m \u001b[39m# it will also try to release it and we'll have a double-release\u001b[39;00m\n\u001b[1;32m    727\u001b[0m \u001b[39m# mess.\u001b[39;00m\n\u001b[1;32m    728\u001b[0m response_conn \u001b[39m=\u001b[39m conn \u001b[39mif\u001b[39;00m \u001b[39mnot\u001b[39;00m release_conn \u001b[39melse\u001b[39;00m \u001b[39mNone\u001b[39;00m\n",
      "File \u001b[0;32m~/miniconda3/envs/client/lib/python3.10/site-packages/urllib3/connectionpool.py:466\u001b[0m, in \u001b[0;36mHTTPConnectionPool._make_request\u001b[0;34m(self, conn, method, url, timeout, chunked, **httplib_request_kw)\u001b[0m\n\u001b[1;32m    461\u001b[0m             httplib_response \u001b[39m=\u001b[39m conn\u001b[39m.\u001b[39mgetresponse()\n\u001b[1;32m    462\u001b[0m         \u001b[39mexcept\u001b[39;00m \u001b[39mBaseException\u001b[39;00m \u001b[39mas\u001b[39;00m e:\n\u001b[1;32m    463\u001b[0m             \u001b[39m# Remove the TypeError from the exception chain in\u001b[39;00m\n\u001b[1;32m    464\u001b[0m             \u001b[39m# Python 3 (including for exceptions like SystemExit).\u001b[39;00m\n\u001b[1;32m    465\u001b[0m             \u001b[39m# Otherwise it looks like a bug in the code.\u001b[39;00m\n\u001b[0;32m--> 466\u001b[0m             six\u001b[39m.\u001b[39;49mraise_from(e, \u001b[39mNone\u001b[39;49;00m)\n\u001b[1;32m    467\u001b[0m \u001b[39mexcept\u001b[39;00m (SocketTimeout, BaseSSLError, SocketError) \u001b[39mas\u001b[39;00m e:\n\u001b[1;32m    468\u001b[0m     \u001b[39mself\u001b[39m\u001b[39m.\u001b[39m_raise_timeout(err\u001b[39m=\u001b[39me, url\u001b[39m=\u001b[39murl, timeout_value\u001b[39m=\u001b[39mread_timeout)\n",
      "File \u001b[0;32m<string>:3\u001b[0m, in \u001b[0;36mraise_from\u001b[0;34m(value, from_value)\u001b[0m\n",
      "File \u001b[0;32m~/miniconda3/envs/client/lib/python3.10/site-packages/urllib3/connectionpool.py:461\u001b[0m, in \u001b[0;36mHTTPConnectionPool._make_request\u001b[0;34m(self, conn, method, url, timeout, chunked, **httplib_request_kw)\u001b[0m\n\u001b[1;32m    458\u001b[0m \u001b[39mexcept\u001b[39;00m \u001b[39mTypeError\u001b[39;00m:\n\u001b[1;32m    459\u001b[0m     \u001b[39m# Python 3\u001b[39;00m\n\u001b[1;32m    460\u001b[0m     \u001b[39mtry\u001b[39;00m:\n\u001b[0;32m--> 461\u001b[0m         httplib_response \u001b[39m=\u001b[39m conn\u001b[39m.\u001b[39;49mgetresponse()\n\u001b[1;32m    462\u001b[0m     \u001b[39mexcept\u001b[39;00m \u001b[39mBaseException\u001b[39;00m \u001b[39mas\u001b[39;00m e:\n\u001b[1;32m    463\u001b[0m         \u001b[39m# Remove the TypeError from the exception chain in\u001b[39;00m\n\u001b[1;32m    464\u001b[0m         \u001b[39m# Python 3 (including for exceptions like SystemExit).\u001b[39;00m\n\u001b[1;32m    465\u001b[0m         \u001b[39m# Otherwise it looks like a bug in the code.\u001b[39;00m\n\u001b[1;32m    466\u001b[0m         six\u001b[39m.\u001b[39mraise_from(e, \u001b[39mNone\u001b[39;00m)\n",
      "File \u001b[0;32m~/miniconda3/envs/client/lib/python3.10/http/client.py:1375\u001b[0m, in \u001b[0;36mHTTPConnection.getresponse\u001b[0;34m(self)\u001b[0m\n\u001b[1;32m   1373\u001b[0m \u001b[39mtry\u001b[39;00m:\n\u001b[1;32m   1374\u001b[0m     \u001b[39mtry\u001b[39;00m:\n\u001b[0;32m-> 1375\u001b[0m         response\u001b[39m.\u001b[39;49mbegin()\n\u001b[1;32m   1376\u001b[0m     \u001b[39mexcept\u001b[39;00m \u001b[39mConnectionError\u001b[39;00m:\n\u001b[1;32m   1377\u001b[0m         \u001b[39mself\u001b[39m\u001b[39m.\u001b[39mclose()\n",
      "File \u001b[0;32m~/miniconda3/envs/client/lib/python3.10/http/client.py:318\u001b[0m, in \u001b[0;36mHTTPResponse.begin\u001b[0;34m(self)\u001b[0m\n\u001b[1;32m    316\u001b[0m \u001b[39m# read until we get a non-100 response\u001b[39;00m\n\u001b[1;32m    317\u001b[0m \u001b[39mwhile\u001b[39;00m \u001b[39mTrue\u001b[39;00m:\n\u001b[0;32m--> 318\u001b[0m     version, status, reason \u001b[39m=\u001b[39m \u001b[39mself\u001b[39;49m\u001b[39m.\u001b[39;49m_read_status()\n\u001b[1;32m    319\u001b[0m     \u001b[39mif\u001b[39;00m status \u001b[39m!=\u001b[39m CONTINUE:\n\u001b[1;32m    320\u001b[0m         \u001b[39mbreak\u001b[39;00m\n",
      "File \u001b[0;32m~/miniconda3/envs/client/lib/python3.10/http/client.py:279\u001b[0m, in \u001b[0;36mHTTPResponse._read_status\u001b[0;34m(self)\u001b[0m\n\u001b[1;32m    278\u001b[0m \u001b[39mdef\u001b[39;00m \u001b[39m_read_status\u001b[39m(\u001b[39mself\u001b[39m):\n\u001b[0;32m--> 279\u001b[0m     line \u001b[39m=\u001b[39m \u001b[39mstr\u001b[39m(\u001b[39mself\u001b[39;49m\u001b[39m.\u001b[39;49mfp\u001b[39m.\u001b[39;49mreadline(_MAXLINE \u001b[39m+\u001b[39;49m \u001b[39m1\u001b[39;49m), \u001b[39m\"\u001b[39m\u001b[39miso-8859-1\u001b[39m\u001b[39m\"\u001b[39m)\n\u001b[1;32m    280\u001b[0m     \u001b[39mif\u001b[39;00m \u001b[39mlen\u001b[39m(line) \u001b[39m>\u001b[39m _MAXLINE:\n\u001b[1;32m    281\u001b[0m         \u001b[39mraise\u001b[39;00m LineTooLong(\u001b[39m\"\u001b[39m\u001b[39mstatus line\u001b[39m\u001b[39m\"\u001b[39m)\n",
      "File \u001b[0;32m~/miniconda3/envs/client/lib/python3.10/socket.py:705\u001b[0m, in \u001b[0;36mSocketIO.readinto\u001b[0;34m(self, b)\u001b[0m\n\u001b[1;32m    703\u001b[0m \u001b[39mwhile\u001b[39;00m \u001b[39mTrue\u001b[39;00m:\n\u001b[1;32m    704\u001b[0m     \u001b[39mtry\u001b[39;00m:\n\u001b[0;32m--> 705\u001b[0m         \u001b[39mreturn\u001b[39;00m \u001b[39mself\u001b[39;49m\u001b[39m.\u001b[39;49m_sock\u001b[39m.\u001b[39;49mrecv_into(b)\n\u001b[1;32m    706\u001b[0m     \u001b[39mexcept\u001b[39;00m timeout:\n\u001b[1;32m    707\u001b[0m         \u001b[39mself\u001b[39m\u001b[39m.\u001b[39m_timeout_occurred \u001b[39m=\u001b[39m \u001b[39mTrue\u001b[39;00m\n",
      "File \u001b[0;32m~/miniconda3/envs/client/lib/python3.10/ssl.py:1307\u001b[0m, in \u001b[0;36mSSLSocket.recv_into\u001b[0;34m(self, buffer, nbytes, flags)\u001b[0m\n\u001b[1;32m   1303\u001b[0m     \u001b[39mif\u001b[39;00m flags \u001b[39m!=\u001b[39m \u001b[39m0\u001b[39m:\n\u001b[1;32m   1304\u001b[0m         \u001b[39mraise\u001b[39;00m \u001b[39mValueError\u001b[39;00m(\n\u001b[1;32m   1305\u001b[0m           \u001b[39m\"\u001b[39m\u001b[39mnon-zero flags not allowed in calls to recv_into() on \u001b[39m\u001b[39m%s\u001b[39;00m\u001b[39m\"\u001b[39m \u001b[39m%\u001b[39m\n\u001b[1;32m   1306\u001b[0m           \u001b[39mself\u001b[39m\u001b[39m.\u001b[39m\u001b[39m__class__\u001b[39m)\n\u001b[0;32m-> 1307\u001b[0m     \u001b[39mreturn\u001b[39;00m \u001b[39mself\u001b[39;49m\u001b[39m.\u001b[39;49mread(nbytes, buffer)\n\u001b[1;32m   1308\u001b[0m \u001b[39melse\u001b[39;00m:\n\u001b[1;32m   1309\u001b[0m     \u001b[39mreturn\u001b[39;00m \u001b[39msuper\u001b[39m()\u001b[39m.\u001b[39mrecv_into(buffer, nbytes, flags)\n",
      "File \u001b[0;32m~/miniconda3/envs/client/lib/python3.10/ssl.py:1163\u001b[0m, in \u001b[0;36mSSLSocket.read\u001b[0;34m(self, len, buffer)\u001b[0m\n\u001b[1;32m   1161\u001b[0m \u001b[39mtry\u001b[39;00m:\n\u001b[1;32m   1162\u001b[0m     \u001b[39mif\u001b[39;00m buffer \u001b[39mis\u001b[39;00m \u001b[39mnot\u001b[39;00m \u001b[39mNone\u001b[39;00m:\n\u001b[0;32m-> 1163\u001b[0m         \u001b[39mreturn\u001b[39;00m \u001b[39mself\u001b[39;49m\u001b[39m.\u001b[39;49m_sslobj\u001b[39m.\u001b[39;49mread(\u001b[39mlen\u001b[39;49m, buffer)\n\u001b[1;32m   1164\u001b[0m     \u001b[39melse\u001b[39;00m:\n\u001b[1;32m   1165\u001b[0m         \u001b[39mreturn\u001b[39;00m \u001b[39mself\u001b[39m\u001b[39m.\u001b[39m_sslobj\u001b[39m.\u001b[39mread(\u001b[39mlen\u001b[39m)\n",
      "\u001b[0;31mKeyboardInterrupt\u001b[0m: "
     ]
    }
   ],
   "source": [
    "# Create a MachineGroup object with a single machine of the desired type\n",
    "mg = inductiva.resources.MachineGroup(\n",
    "    machine_type=\"c2-standard-4\",\n",
    "    num_machines=1,\n",
    "    disk_size_gb=40,\n",
    ")\n",
    "\n",
    "# Estimate the hourly cost (in $) of the cloud resources requested\n",
    "price_per_hour = mg.estimate_cloud_cost()\n",
    "\n",
    "# Start the machines\n",
    "mg.start()"
   ]
  },
  {
   "cell_type": "code",
   "execution_count": 11,
   "metadata": {},
   "outputs": [
    {
     "name": "stderr",
     "output_type": "stream",
     "text": [
      "ERROR:absl:Exception when calling TasksApi->submit_task: (500)\n",
      "Reason: Internal Server Error\n",
      "HTTP response headers: HTTPHeaderDict({'content-type': 'text/plain; charset=utf-8', 'X-Cloud-Trace-Context': '01d14fa4f440e4c42653225bb3c3f0aa;o=1', 'Date': 'Tue, 17 Oct 2023 13:58:59 GMT', 'Server': 'Google Frontend', 'Content-Length': '21'})\n",
      "HTTP response body: b'Internal Server Error'\n",
      "Traceback (most recent call last):\n",
      "  File \"/Users/cristianacarpinteiro/Documents/inductiva/inductiva/api/methods.py\", line 61, in submit_request\n",
      "    api_response = api_instance.submit_task(body=request)\n",
      "  File \"/Users/cristianacarpinteiro/Documents/inductiva/inductiva/client/paths/tasks_submit/post.py\", line 305, in submit_task\n",
      "    return self._submit_task_oapg(body=body,\n",
      "  File \"/Users/cristianacarpinteiro/Documents/inductiva/inductiva/client/paths/tasks_submit/post.py\", line 221, in _submit_task_oapg\n",
      "    raise exceptions.ApiException(status=response.status,\n",
      "inductiva.client.exceptions.ApiException: (500)\n",
      "Reason: Internal Server Error\n",
      "HTTP response headers: HTTPHeaderDict({'content-type': 'text/plain; charset=utf-8', 'X-Cloud-Trace-Context': '01d14fa4f440e4c42653225bb3c3f0aa;o=1', 'Date': 'Tue, 17 Oct 2023 13:58:59 GMT', 'Server': 'Google Frontend', 'Content-Length': '21'})\n",
      "HTTP response body: b'Internal Server Error'\n",
      "\n"
     ]
    },
    {
     "ename": "ApiException",
     "evalue": "(500)\nReason: Internal Server Error\nHTTP response headers: HTTPHeaderDict({'content-type': 'text/plain; charset=utf-8', 'X-Cloud-Trace-Context': '01d14fa4f440e4c42653225bb3c3f0aa;o=1', 'Date': 'Tue, 17 Oct 2023 13:58:59 GMT', 'Server': 'Google Frontend', 'Content-Length': '21'})\nHTTP response body: b'Internal Server Error'\n",
     "output_type": "error",
     "traceback": [
      "\u001b[0;31m---------------------------------------------------------------------------\u001b[0m",
      "\u001b[0;31mApiException\u001b[0m                              Traceback (most recent call last)",
      "Cell \u001b[0;32mIn[11], line 10\u001b[0m\n\u001b[1;32m      5\u001b[0m scenario \u001b[39m=\u001b[39m inductiva\u001b[39m.\u001b[39mmolecules\u001b[39m.\u001b[39mProteinSolvation(\n\u001b[1;32m      6\u001b[0m      protein_pdb \u001b[39m=\u001b[39m insulin_pdb_file,\n\u001b[1;32m      7\u001b[0m      temperature \u001b[39m=\u001b[39m \u001b[39m300\u001b[39m)\n\u001b[1;32m      9\u001b[0m \u001b[39m# Run a simulation\u001b[39;00m\n\u001b[0;32m---> 10\u001b[0m task \u001b[39m=\u001b[39m scenario\u001b[39m.\u001b[39;49msimulate(simulation_time_ns \u001b[39m=\u001b[39;49m \u001b[39m0.001\u001b[39;49m, \n\u001b[1;32m     11\u001b[0m                          storage_parent_dir\u001b[39m=\u001b[39;49m\u001b[39m\"\u001b[39;49m\u001b[39mprota\u001b[39;49m\u001b[39m\"\u001b[39;49m,\n\u001b[1;32m     12\u001b[0m                          ignore_warnings \u001b[39m=\u001b[39;49m \u001b[39mTrue\u001b[39;49;00m)\n\u001b[1;32m     13\u001b[0m task\u001b[39m.\u001b[39mget_storage_path()\n",
      "File \u001b[0;32m~/Documents/inductiva/inductiva/molecules/protein_solvation/protein_solvation.py:91\u001b[0m, in \u001b[0;36mProteinSolvation.simulate\u001b[0;34m(self, simulator, machine_group, run_async, storage_parent_dir, simulation_time_ns, output_timestep_ps, integrator, n_steps_min, ignore_warnings)\u001b[0m\n\u001b[1;32m     87\u001b[0m     \u001b[39mself\u001b[39m\u001b[39m.\u001b[39mignore_warnings \u001b[39m=\u001b[39m \u001b[39m-\u001b[39m\u001b[39m1\u001b[39m\n\u001b[1;32m     89\u001b[0m commands \u001b[39m=\u001b[39m \u001b[39mself\u001b[39m\u001b[39m.\u001b[39mget_commands()\n\u001b[0;32m---> 91\u001b[0m task \u001b[39m=\u001b[39m \u001b[39msuper\u001b[39;49m()\u001b[39m.\u001b[39;49msimulate(simulator,\n\u001b[1;32m     92\u001b[0m                         machine_group\u001b[39m=\u001b[39;49mmachine_group,\n\u001b[1;32m     93\u001b[0m                         commands\u001b[39m=\u001b[39;49mcommands,\n\u001b[1;32m     94\u001b[0m                         run_async\u001b[39m=\u001b[39;49mrun_async,\n\u001b[1;32m     95\u001b[0m                         storage_parent_dir\u001b[39m=\u001b[39;49mstorage_parent_dir)\n\u001b[1;32m     97\u001b[0m \u001b[39mreturn\u001b[39;00m task\n",
      "File \u001b[0;32m~/Documents/inductiva/inductiva/scenarios.py:53\u001b[0m, in \u001b[0;36mScenario.simulate\u001b[0;34m(self, simulator, machine_group, run_async, storage_parent_dir, **kwargs)\u001b[0m\n\u001b[1;32m     50\u001b[0m \u001b[39mwith\u001b[39;00m tempfile\u001b[39m.\u001b[39mTemporaryDirectory() \u001b[39mas\u001b[39;00m input_dir:\n\u001b[1;32m     51\u001b[0m     \u001b[39mself\u001b[39m\u001b[39m.\u001b[39mcreate_input_files(simulator, input_dir)\n\u001b[0;32m---> 53\u001b[0m     \u001b[39mreturn\u001b[39;00m simulator\u001b[39m.\u001b[39;49mrun(\n\u001b[1;32m     54\u001b[0m         input_dir,\n\u001b[1;32m     55\u001b[0m         machine_group\u001b[39m=\u001b[39;49mmachine_group,\n\u001b[1;32m     56\u001b[0m         run_async\u001b[39m=\u001b[39;49mrun_async,\n\u001b[1;32m     57\u001b[0m         storage_parent_dir\u001b[39m=\u001b[39;49mstorage_parent_dir,\n\u001b[1;32m     58\u001b[0m         \u001b[39m*\u001b[39;49m\u001b[39m*\u001b[39;49mkwargs,\n\u001b[1;32m     59\u001b[0m     )\n",
      "File \u001b[0;32m~/Documents/inductiva/inductiva/simulators/gromacs.py:34\u001b[0m, in \u001b[0;36mGROMACS.run\u001b[0;34m(self, input_dir, commands, machine_group, run_async, storage_parent_dir)\u001b[0m\n\u001b[1;32m     15\u001b[0m \u001b[39mdef\u001b[39;00m \u001b[39mrun\u001b[39m(\n\u001b[1;32m     16\u001b[0m     \u001b[39mself\u001b[39m,\n\u001b[1;32m     17\u001b[0m     input_dir: types\u001b[39m.\u001b[39mPath,\n\u001b[0;32m   (...)\u001b[0m\n\u001b[1;32m     21\u001b[0m     storage_parent_dir: Optional[types\u001b[39m.\u001b[39mPath] \u001b[39m=\u001b[39m \u001b[39m\"\u001b[39m\u001b[39m\"\u001b[39m,\n\u001b[1;32m     22\u001b[0m ) \u001b[39m-\u001b[39m\u001b[39m>\u001b[39m tasks\u001b[39m.\u001b[39mTask:\n\u001b[1;32m     23\u001b[0m \u001b[39m    \u001b[39m\u001b[39m\"\"\"Run a list of GROMACS commands.\u001b[39;00m\n\u001b[1;32m     24\u001b[0m \n\u001b[1;32m     25\u001b[0m \u001b[39m    Args:\u001b[39;00m\n\u001b[0;32m   (...)\u001b[0m\n\u001b[1;32m     31\u001b[0m \u001b[39m                           results.\u001b[39;00m\n\u001b[1;32m     32\u001b[0m \u001b[39m    \"\"\"\u001b[39;00m\n\u001b[0;32m---> 34\u001b[0m     \u001b[39mreturn\u001b[39;00m \u001b[39msuper\u001b[39;49m()\u001b[39m.\u001b[39;49mrun(input_dir,\n\u001b[1;32m     35\u001b[0m                        machine_group\u001b[39m=\u001b[39;49mmachine_group,\n\u001b[1;32m     36\u001b[0m                        commands\u001b[39m=\u001b[39;49mcommands,\n\u001b[1;32m     37\u001b[0m                        run_async\u001b[39m=\u001b[39;49mrun_async,\n\u001b[1;32m     38\u001b[0m                        storage_parent_dir\u001b[39m=\u001b[39;49mstorage_parent_dir)\n",
      "File \u001b[0;32m~/Documents/inductiva/inductiva/simulators/simulator.py:63\u001b[0m, in \u001b[0;36mSimulator.run\u001b[0;34m(self, input_dir, machine_group, run_async, storage_parent_dir, *_args, **kwargs)\u001b[0m\n\u001b[1;32m     48\u001b[0m \u001b[39m\u001b[39m\u001b[39m\"\"\"Run the simulation.\u001b[39;00m\n\u001b[1;32m     49\u001b[0m \n\u001b[1;32m     50\u001b[0m \u001b[39mArgs:\u001b[39;00m\n\u001b[0;32m   (...)\u001b[0m\n\u001b[1;32m     59\u001b[0m \u001b[39m        simulation API method.\u001b[39;00m\n\u001b[1;32m     60\u001b[0m \u001b[39m\"\"\"\u001b[39;00m\n\u001b[1;32m     61\u001b[0m input_dir \u001b[39m=\u001b[39m \u001b[39mself\u001b[39m\u001b[39m.\u001b[39m_setup_input_dir(input_dir)\n\u001b[0;32m---> 63\u001b[0m \u001b[39mreturn\u001b[39;00m tasks\u001b[39m.\u001b[39;49mrun_simulation(\n\u001b[1;32m     64\u001b[0m     \u001b[39mself\u001b[39;49m\u001b[39m.\u001b[39;49mapi_method_name,\n\u001b[1;32m     65\u001b[0m     input_dir,\n\u001b[1;32m     66\u001b[0m     run_async\u001b[39m=\u001b[39;49mrun_async,\n\u001b[1;32m     67\u001b[0m     machine_group\u001b[39m=\u001b[39;49mmachine_group,\n\u001b[1;32m     68\u001b[0m     storage_parent_dir\u001b[39m=\u001b[39;49mstorage_parent_dir,\n\u001b[1;32m     69\u001b[0m     \u001b[39m*\u001b[39;49m\u001b[39m*\u001b[39;49mkwargs,\n\u001b[1;32m     70\u001b[0m )\n",
      "File \u001b[0;32m~/Documents/inductiva/inductiva/tasks/run_simulation.py:31\u001b[0m, in \u001b[0;36mrun_simulation\u001b[0;34m(api_method_name, input_dir, machine_group, run_async, storage_parent_dir, **kwargs)\u001b[0m\n\u001b[1;32m     28\u001b[0m \u001b[39mif\u001b[39;00m machine_group \u001b[39mis\u001b[39;00m \u001b[39mnot\u001b[39;00m \u001b[39mNone\u001b[39;00m:\n\u001b[1;32m     29\u001b[0m     resource_pool_id \u001b[39m=\u001b[39m machine_group\u001b[39m.\u001b[39mid\n\u001b[0;32m---> 31\u001b[0m task_id \u001b[39m=\u001b[39m methods\u001b[39m.\u001b[39;49minvoke_async_api(api_method_name,\n\u001b[1;32m     32\u001b[0m                                    params,\n\u001b[1;32m     33\u001b[0m                                    type_annotations,\n\u001b[1;32m     34\u001b[0m                                    resource_pool_id\u001b[39m=\u001b[39;49mresource_pool_id,\n\u001b[1;32m     35\u001b[0m                                    storage_path_prefix\u001b[39m=\u001b[39;49mstorage_parent_dir)\n\u001b[1;32m     36\u001b[0m task \u001b[39m=\u001b[39m tasks\u001b[39m.\u001b[39mTask(task_id)\n\u001b[1;32m     37\u001b[0m \u001b[39mif\u001b[39;00m \u001b[39mnot\u001b[39;00m \u001b[39misinstance\u001b[39m(task_id, \u001b[39mstr\u001b[39m):\n",
      "File \u001b[0;32m~/Documents/inductiva/inductiva/api/methods.py:438\u001b[0m, in \u001b[0;36minvoke_async_api\u001b[0;34m(method_name, params, type_annotations, resource_pool_id, storage_path_prefix)\u001b[0m\n\u001b[1;32m    435\u001b[0m \u001b[39mwith\u001b[39;00m ApiClient(api_config) \u001b[39mas\u001b[39;00m client:\n\u001b[1;32m    436\u001b[0m     api_instance \u001b[39m=\u001b[39m TasksApi(client)\n\u001b[0;32m--> 438\u001b[0m     task_id \u001b[39m=\u001b[39m submit_task(api_instance\u001b[39m=\u001b[39;49mapi_instance,\n\u001b[1;32m    439\u001b[0m                           task_request\u001b[39m=\u001b[39;49mtask_request,\n\u001b[1;32m    440\u001b[0m                           params\u001b[39m=\u001b[39;49mparams,\n\u001b[1;32m    441\u001b[0m                           type_annotations\u001b[39m=\u001b[39;49mtype_annotations)\n\u001b[1;32m    443\u001b[0m \u001b[39mreturn\u001b[39;00m task_id\n",
      "File \u001b[0;32m~/Documents/inductiva/inductiva/api/methods.py:278\u001b[0m, in \u001b[0;36msubmit_task\u001b[0;34m(api_instance, task_request, params, type_annotations)\u001b[0m\n\u001b[1;32m    275\u001b[0m \u001b[39mdef\u001b[39;00m \u001b[39msubmit_task\u001b[39m(api_instance, task_request, params, type_annotations):\n\u001b[1;32m    276\u001b[0m \u001b[39m    \u001b[39m\u001b[39m\"\"\"Submit a task and send input files to the API.\"\"\"\u001b[39;00m\n\u001b[0;32m--> 278\u001b[0m     task \u001b[39m=\u001b[39m submit_request(\n\u001b[1;32m    279\u001b[0m         api_instance\u001b[39m=\u001b[39;49mapi_instance,\n\u001b[1;32m    280\u001b[0m         request\u001b[39m=\u001b[39;49mtask_request,\n\u001b[1;32m    281\u001b[0m     )\n\u001b[1;32m    283\u001b[0m     task_id \u001b[39m=\u001b[39m task[\u001b[39m\"\u001b[39m\u001b[39mid\u001b[39m\u001b[39m\"\u001b[39m]\n\u001b[1;32m    284\u001b[0m     logging\u001b[39m.\u001b[39minfo(\u001b[39m\"\u001b[39m\u001b[39mTask ID: \u001b[39m\u001b[39m%s\u001b[39;00m\u001b[39m\"\u001b[39m, task_id)\n",
      "File \u001b[0;32m~/Documents/inductiva/inductiva/api/methods.py:64\u001b[0m, in \u001b[0;36msubmit_request\u001b[0;34m(api_instance, request)\u001b[0m\n\u001b[1;32m     62\u001b[0m \u001b[39mexcept\u001b[39;00m ApiException \u001b[39mas\u001b[39;00m e:\n\u001b[1;32m     63\u001b[0m     logging\u001b[39m.\u001b[39mexception(\u001b[39m\"\u001b[39m\u001b[39mException when calling TasksApi->submit_task: \u001b[39m\u001b[39m%s\u001b[39;00m\u001b[39m\"\u001b[39m, e)\n\u001b[0;32m---> 64\u001b[0m     \u001b[39mraise\u001b[39;00m e\n\u001b[1;32m     66\u001b[0m logging\u001b[39m.\u001b[39mdebug(\u001b[39m\"\u001b[39m\u001b[39mRequest status: \u001b[39m\u001b[39m%s\u001b[39;00m\u001b[39m\"\u001b[39m, api_response\u001b[39m.\u001b[39mbody[\u001b[39m\"\u001b[39m\u001b[39mstatus\u001b[39m\u001b[39m\"\u001b[39m])\n\u001b[1;32m     68\u001b[0m \u001b[39mreturn\u001b[39;00m api_response\u001b[39m.\u001b[39mbody\n",
      "File \u001b[0;32m~/Documents/inductiva/inductiva/api/methods.py:61\u001b[0m, in \u001b[0;36msubmit_request\u001b[0;34m(api_instance, request)\u001b[0m\n\u001b[1;32m     51\u001b[0m \u001b[39m\u001b[39m\u001b[39m\"\"\"Submits a task request to the API.\u001b[39;00m\n\u001b[1;32m     52\u001b[0m \n\u001b[1;32m     53\u001b[0m \u001b[39mArgs:\u001b[39;00m\n\u001b[0;32m   (...)\u001b[0m\n\u001b[1;32m     57\u001b[0m \u001b[39m    Contains two fields, \"id\" and \"status\".\u001b[39;00m\n\u001b[1;32m     58\u001b[0m \u001b[39m\"\"\"\u001b[39;00m\n\u001b[1;32m     60\u001b[0m \u001b[39mtry\u001b[39;00m:\n\u001b[0;32m---> 61\u001b[0m     api_response \u001b[39m=\u001b[39m api_instance\u001b[39m.\u001b[39;49msubmit_task(body\u001b[39m=\u001b[39;49mrequest)\n\u001b[1;32m     62\u001b[0m \u001b[39mexcept\u001b[39;00m ApiException \u001b[39mas\u001b[39;00m e:\n\u001b[1;32m     63\u001b[0m     logging\u001b[39m.\u001b[39mexception(\u001b[39m\"\u001b[39m\u001b[39mException when calling TasksApi->submit_task: \u001b[39m\u001b[39m%s\u001b[39;00m\u001b[39m\"\u001b[39m, e)\n",
      "File \u001b[0;32m~/Documents/inductiva/inductiva/client/paths/tasks_submit/post.py:305\u001b[0m, in \u001b[0;36mSubmitTask.submit_task\u001b[0;34m(self, body, content_type, accept_content_types, stream, timeout, skip_deserialization)\u001b[0m\n\u001b[1;32m    294\u001b[0m \u001b[39mdef\u001b[39;00m \u001b[39msubmit_task\u001b[39m(\n\u001b[1;32m    295\u001b[0m     \u001b[39mself\u001b[39m,\n\u001b[1;32m    296\u001b[0m     body: typing\u001b[39m.\u001b[39mUnion[\n\u001b[0;32m   (...)\u001b[0m\n\u001b[1;32m    303\u001b[0m     skip_deserialization: \u001b[39mbool\u001b[39m \u001b[39m=\u001b[39m \u001b[39mFalse\u001b[39;00m,\n\u001b[1;32m    304\u001b[0m ):\n\u001b[0;32m--> 305\u001b[0m     \u001b[39mreturn\u001b[39;00m \u001b[39mself\u001b[39;49m\u001b[39m.\u001b[39;49m_submit_task_oapg(body\u001b[39m=\u001b[39;49mbody,\n\u001b[1;32m    306\u001b[0m                                   content_type\u001b[39m=\u001b[39;49mcontent_type,\n\u001b[1;32m    307\u001b[0m                                   accept_content_types\u001b[39m=\u001b[39;49maccept_content_types,\n\u001b[1;32m    308\u001b[0m                                   stream\u001b[39m=\u001b[39;49mstream,\n\u001b[1;32m    309\u001b[0m                                   timeout\u001b[39m=\u001b[39;49mtimeout,\n\u001b[1;32m    310\u001b[0m                                   skip_deserialization\u001b[39m=\u001b[39;49mskip_deserialization)\n",
      "File \u001b[0;32m~/Documents/inductiva/inductiva/client/paths/tasks_submit/post.py:221\u001b[0m, in \u001b[0;36mBaseApi._submit_task_oapg\u001b[0;34m(self, body, content_type, accept_content_types, stream, timeout, skip_deserialization)\u001b[0m\n\u001b[1;32m    217\u001b[0m         api_response \u001b[39m=\u001b[39m api_client\u001b[39m.\u001b[39mApiResponseWithoutDeserialization(\n\u001b[1;32m    218\u001b[0m             response\u001b[39m=\u001b[39mresponse)\n\u001b[1;32m    220\u001b[0m \u001b[39mif\u001b[39;00m \u001b[39mnot\u001b[39;00m \u001b[39m200\u001b[39m \u001b[39m<\u001b[39m\u001b[39m=\u001b[39m response\u001b[39m.\u001b[39mstatus \u001b[39m<\u001b[39m\u001b[39m=\u001b[39m \u001b[39m299\u001b[39m:\n\u001b[0;32m--> 221\u001b[0m     \u001b[39mraise\u001b[39;00m exceptions\u001b[39m.\u001b[39mApiException(status\u001b[39m=\u001b[39mresponse\u001b[39m.\u001b[39mstatus,\n\u001b[1;32m    222\u001b[0m                                   reason\u001b[39m=\u001b[39mresponse\u001b[39m.\u001b[39mreason,\n\u001b[1;32m    223\u001b[0m                                   api_response\u001b[39m=\u001b[39mapi_response)\n\u001b[1;32m    225\u001b[0m \u001b[39mreturn\u001b[39;00m api_response\n",
      "\u001b[0;31mApiException\u001b[0m: (500)\nReason: Internal Server Error\nHTTP response headers: HTTPHeaderDict({'content-type': 'text/plain; charset=utf-8', 'X-Cloud-Trace-Context': '01d14fa4f440e4c42653225bb3c3f0aa;o=1', 'Date': 'Tue, 17 Oct 2023 13:58:59 GMT', 'Server': 'Google Frontend', 'Content-Length': '21'})\nHTTP response body: b'Internal Server Error'\n"
     ]
    }
   ],
   "source": [
    "# Download the insulin protein (ID - \"1ZNI\") from RCSB database\n",
    "insulin_pdb_file = inductiva.molecules.utils.download_pdb_from_rcsb(pdb_id=\"1ZNI\")\n",
    "\n",
    "# Initialize the scenario\n",
    "scenario = inductiva.molecules.ProteinSolvation(\n",
    "     protein_pdb = insulin_pdb_file,\n",
    "     temperature = 300)\n",
    "\n",
    "# Run a simulation\n",
    "task = scenario.simulate(simulation_time_ns = 0.001, \n",
    "                         storage_parent_dir=\"prota\",\n",
    "                         ignore_warnings = True)\n",
    "task.get_storage_path()"
   ]
  },
  {
   "cell_type": "code",
   "execution_count": null,
   "metadata": {},
   "outputs": [],
   "source": [
    "task.get_storage_path()"
   ]
  },
  {
   "cell_type": "code",
   "execution_count": null,
   "metadata": {},
   "outputs": [],
   "source": [
    "task = scenario.simulate(simulation_time_ns = 0.001, \n",
    "                         storage_parent_dir=\"proteins/beta\",\n",
    "                         machine_group=mg, \n",
    "                         ignore_warnings = True)"
   ]
  },
  {
   "cell_type": "code",
   "execution_count": null,
   "metadata": {},
   "outputs": [],
   "source": [
    "storage = inductiva.storage.get_space_used()"
   ]
  },
  {
   "cell_type": "code",
   "execution_count": null,
   "metadata": {},
   "outputs": [],
   "source": [
    "contents = inductiva.storage.listdir(max_results=-1)"
   ]
  },
  {
   "cell_type": "code",
   "execution_count": null,
   "metadata": {},
   "outputs": [],
   "source": [
    "len(contents)"
   ]
  },
  {
   "cell_type": "code",
   "execution_count": null,
   "metadata": {},
   "outputs": [],
   "source": [
    "content_names = [content['content_name'] for content in contents]\n",
    "for content in content_names: \n",
    "    inductiva.storage.rmdir(content)"
   ]
  },
  {
   "cell_type": "code",
   "execution_count": null,
   "metadata": {},
   "outputs": [],
   "source": [
    "mg.terminate()"
   ]
  },
  {
   "attachments": {},
   "cell_type": "markdown",
   "metadata": {},
   "source": []
  }
 ],
 "metadata": {
  "kernelspec": {
   "display_name": "local",
   "language": "python",
   "name": "python3"
  },
  "language_info": {
   "codemirror_mode": {
    "name": "ipython",
    "version": 3
   },
   "file_extension": ".py",
   "mimetype": "text/x-python",
   "name": "python",
   "nbconvert_exporter": "python",
   "pygments_lexer": "ipython3",
   "version": "3.10.13"
  },
  "orig_nbformat": 4
 },
 "nbformat": 4,
 "nbformat_minor": 2
}
