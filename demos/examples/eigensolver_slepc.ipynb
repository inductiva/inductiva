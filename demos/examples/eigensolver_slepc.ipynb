{
 "cells": [
  {
   "attachments": {},
   "cell_type": "markdown",
   "metadata": {},
   "source": [
    "### SLEPc eigensolver"
   ]
  },
  {
   "cell_type": "code",
   "execution_count": null,
   "metadata": {},
   "outputs": [],
   "source": [
    "# Install the API dependencies and Inductiva modules\n",
    "! pip install inductiva"
   ]
  },
  {
   "cell_type": "code",
   "execution_count": 1,
   "metadata": {},
   "outputs": [],
   "source": [
    "import inductiva\n",
    "import numpy as np\n",
    "import scipy"
   ]
  },
  {
   "cell_type": "code",
   "execution_count": null,
   "metadata": {},
   "outputs": [],
   "source": [
    "# [TODO] Give some instructions on how to get the API key\n",
    "inductiva.api_key = \"YOUR_API_KEY\""
   ]
  },
  {
   "cell_type": "code",
   "execution_count": 2,
   "metadata": {},
   "outputs": [],
   "source": [
    "# Create a tridiagonal matrix\n",
    "def get_square_tridiagonal_h_matrix(size):\n",
    "    diags = [\n",
    "        np.random.normal(size=size - 1),\n",
    "        np.random.normal(size=size),\n",
    "        np.random.normal(size=size - 1),\n",
    "    ]\n",
    "\n",
    "    m = scipy.sparse.diags(diagonals=diags, offsets=[-1, 0, 1], format=\"csr\")\n",
    "\n",
    "    return m + m.transpose()\n",
    "\n",
    "m = get_square_tridiagonal_h_matrix(10)"
   ]
  },
  {
   "cell_type": "code",
   "execution_count": 3,
   "metadata": {},
   "outputs": [
    {
     "name": "stdout",
     "output_type": "stream",
     "text": [
      "  (0, 0)\t-1.9835303889320068\n",
      "  (0, 1)\t-0.8523298218238671\n",
      "  (1, 0)\t-0.8523298218238671\n",
      "  (1, 1)\t-1.710435529977084\n",
      "  (1, 2)\t-0.11539574487808246\n",
      "  (2, 1)\t-0.11539574487808246\n",
      "  (2, 2)\t0.7622631635488684\n",
      "  (2, 3)\t-1.4091748275477087\n",
      "  (3, 2)\t-1.4091748275477087\n",
      "  (3, 3)\t-1.3546862517690539\n",
      "  (3, 4)\t0.11048246223007141\n",
      "  (4, 3)\t0.11048246223007141\n",
      "  (4, 4)\t-0.09688575964020013\n",
      "  (4, 5)\t-0.23158126047903305\n",
      "  (5, 4)\t-0.23158126047903305\n",
      "  (5, 5)\t-4.738420502440032\n",
      "  (5, 6)\t-1.7351220813411368\n",
      "  (6, 5)\t-1.7351220813411368\n",
      "  (6, 6)\t-0.9308784489854286\n",
      "  (6, 7)\t-0.477212083609852\n",
      "  (7, 6)\t-0.477212083609852\n",
      "  (7, 7)\t0.06726270951332594\n",
      "  (7, 8)\t-1.3959783265631387\n",
      "  (8, 7)\t-1.3959783265631387\n",
      "  (8, 8)\t-3.0086113402789096\n",
      "  (8, 9)\t1.3539121387233612\n",
      "  (9, 8)\t1.3539121387233612\n",
      "  (9, 9)\t0.04557765495359832\n"
     ]
    }
   ],
   "source": [
    "# Compute the eigenvalues and eigenvectors in the server\n",
    "remote_result = inductiva.slepc.linalg.eigs(m=m)\n",
    "print(remote_result)"
   ]
  },
  {
   "cell_type": "code",
   "execution_count": null,
   "metadata": {},
   "outputs": [],
   "source": []
  }
 ],
 "metadata": {
  "kernelspec": {
   "display_name": "lin-alg",
   "language": "python",
   "name": "python3"
  },
  "language_info": {
   "codemirror_mode": {
    "name": "ipython",
    "version": 3
   },
   "file_extension": ".py",
   "mimetype": "text/x-python",
   "name": "python",
   "nbconvert_exporter": "python",
   "pygments_lexer": "ipython3",
   "version": "3.10.9"
  },
  "orig_nbformat": 4
 },
 "nbformat": 4,
 "nbformat_minor": 2
}
