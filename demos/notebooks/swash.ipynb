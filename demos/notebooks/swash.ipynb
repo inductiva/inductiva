{
 "cells": [
  {
   "attachments": {},
   "cell_type": "markdown",
   "metadata": {},
   "source": [
    "### Low-level SWASH smulation\n",
    "Check out our tutorials if you want to learn more about SWASH simulator and engine speed-ups."
   ]
  },
  {
   "cell_type": "code",
   "execution_count": 5,
   "metadata": {},
   "outputs": [
    {
     "name": "stdout",
     "output_type": "stream",
     "text": [
      "Requirement already satisfied: inductiva in /Users/ivanpombo/miniconda3/lib/python3.9/site-packages (0.0.10)\n",
      "Requirement already satisfied: pyvista in /Users/ivanpombo/miniconda3/lib/python3.9/site-packages (from inductiva) (0.38.5)\n",
      "Requirement already satisfied: vtk in /Users/ivanpombo/miniconda3/lib/python3.9/site-packages (from inductiva) (9.2.6)\n",
      "Requirement already satisfied: ipython in /Users/ivanpombo/miniconda3/lib/python3.9/site-packages (from inductiva) (8.12.0)\n",
      "Requirement already satisfied: tqdm in /Users/ivanpombo/miniconda3/lib/python3.9/site-packages (from inductiva) (4.65.0)\n",
      "Requirement already satisfied: matplotlib in /Users/ivanpombo/miniconda3/lib/python3.9/site-packages (from inductiva) (3.7.1)\n",
      "Requirement already satisfied: meshio in /Users/ivanpombo/miniconda3/lib/python3.9/site-packages (from inductiva) (5.3.4)\n",
      "Requirement already satisfied: imageio-ffmpeg in /Users/ivanpombo/miniconda3/lib/python3.9/site-packages (from inductiva) (0.4.8)\n",
      "Requirement already satisfied: scipy in /Users/ivanpombo/miniconda3/lib/python3.9/site-packages (from inductiva) (1.10.1)\n",
      "Requirement already satisfied: urllib3>=1.15 in /Users/ivanpombo/miniconda3/lib/python3.9/site-packages (from inductiva) (1.26.15)\n",
      "Requirement already satisfied: numpy in /Users/ivanpombo/miniconda3/lib/python3.9/site-packages (from inductiva) (1.24.2)\n",
      "Requirement already satisfied: gmsh in /Users/ivanpombo/miniconda3/lib/python3.9/site-packages (from inductiva) (4.11.1)\n",
      "Requirement already satisfied: certifi in /Users/ivanpombo/miniconda3/lib/python3.9/site-packages (from inductiva) (2022.12.7)\n",
      "Requirement already satisfied: python-dateutil in /Users/ivanpombo/miniconda3/lib/python3.9/site-packages (from inductiva) (2.8.2)\n",
      "Requirement already satisfied: websockets in /Users/ivanpombo/miniconda3/lib/python3.9/site-packages (from inductiva) (11.0.1)\n",
      "Requirement already satisfied: frozendict in /Users/ivanpombo/miniconda3/lib/python3.9/site-packages (from inductiva) (2.3.7)\n",
      "Requirement already satisfied: absl-py in /Users/ivanpombo/miniconda3/lib/python3.9/site-packages (from inductiva) (1.4.0)\n",
      "Requirement already satisfied: xarray in /Users/ivanpombo/miniconda3/lib/python3.9/site-packages (from inductiva) (2023.3.0)\n",
      "Requirement already satisfied: jinja2 in /Users/ivanpombo/miniconda3/lib/python3.9/site-packages (from inductiva) (3.1.2)\n",
      "Requirement already satisfied: typing-extensions in /Users/ivanpombo/miniconda3/lib/python3.9/site-packages (from inductiva) (4.4.0)\n",
      "Requirement already satisfied: pickleshare in /Users/ivanpombo/miniconda3/lib/python3.9/site-packages (from ipython->inductiva) (0.7.5)\n",
      "Requirement already satisfied: pexpect>4.3 in /Users/ivanpombo/miniconda3/lib/python3.9/site-packages (from ipython->inductiva) (4.8.0)\n",
      "Requirement already satisfied: backcall in /Users/ivanpombo/miniconda3/lib/python3.9/site-packages (from ipython->inductiva) (0.2.0)\n",
      "Requirement already satisfied: jedi>=0.16 in /Users/ivanpombo/miniconda3/lib/python3.9/site-packages (from ipython->inductiva) (0.18.1)\n",
      "Requirement already satisfied: matplotlib-inline in /Users/ivanpombo/miniconda3/lib/python3.9/site-packages (from ipython->inductiva) (0.1.6)\n",
      "Requirement already satisfied: appnope in /Users/ivanpombo/miniconda3/lib/python3.9/site-packages (from ipython->inductiva) (0.1.2)\n",
      "Requirement already satisfied: stack-data in /Users/ivanpombo/miniconda3/lib/python3.9/site-packages (from ipython->inductiva) (0.2.0)\n",
      "Requirement already satisfied: decorator in /Users/ivanpombo/miniconda3/lib/python3.9/site-packages (from ipython->inductiva) (5.1.1)\n",
      "Requirement already satisfied: prompt-toolkit!=3.0.37,<3.1.0,>=3.0.30 in /Users/ivanpombo/miniconda3/lib/python3.9/site-packages (from ipython->inductiva) (3.0.36)\n",
      "Requirement already satisfied: traitlets>=5 in /Users/ivanpombo/miniconda3/lib/python3.9/site-packages (from ipython->inductiva) (5.7.1)\n",
      "Requirement already satisfied: pygments>=2.4.0 in /Users/ivanpombo/miniconda3/lib/python3.9/site-packages (from ipython->inductiva) (2.15.0)\n",
      "Requirement already satisfied: MarkupSafe>=2.0 in /Users/ivanpombo/miniconda3/lib/python3.9/site-packages (from jinja2->inductiva) (2.1.1)\n",
      "Requirement already satisfied: packaging>=20.0 in /Users/ivanpombo/miniconda3/lib/python3.9/site-packages (from matplotlib->inductiva) (23.0)\n",
      "Requirement already satisfied: pillow>=6.2.0 in /Users/ivanpombo/miniconda3/lib/python3.9/site-packages (from matplotlib->inductiva) (9.5.0)\n",
      "Requirement already satisfied: pyparsing>=2.3.1 in /Users/ivanpombo/miniconda3/lib/python3.9/site-packages (from matplotlib->inductiva) (3.0.9)\n",
      "Requirement already satisfied: contourpy>=1.0.1 in /Users/ivanpombo/miniconda3/lib/python3.9/site-packages (from matplotlib->inductiva) (1.0.7)\n",
      "Requirement already satisfied: cycler>=0.10 in /Users/ivanpombo/miniconda3/lib/python3.9/site-packages (from matplotlib->inductiva) (0.11.0)\n",
      "Requirement already satisfied: kiwisolver>=1.0.1 in /Users/ivanpombo/miniconda3/lib/python3.9/site-packages (from matplotlib->inductiva) (1.4.4)\n",
      "Requirement already satisfied: importlib-resources>=3.2.0 in /Users/ivanpombo/miniconda3/lib/python3.9/site-packages (from matplotlib->inductiva) (5.12.0)\n",
      "Requirement already satisfied: fonttools>=4.22.0 in /Users/ivanpombo/miniconda3/lib/python3.9/site-packages (from matplotlib->inductiva) (4.39.3)\n",
      "Requirement already satisfied: six>=1.5 in /Users/ivanpombo/miniconda3/lib/python3.9/site-packages (from python-dateutil->inductiva) (1.16.0)\n",
      "Requirement already satisfied: rich in /Users/ivanpombo/miniconda3/lib/python3.9/site-packages (from meshio->inductiva) (13.3.4)\n",
      "Requirement already satisfied: imageio in /Users/ivanpombo/miniconda3/lib/python3.9/site-packages (from pyvista->inductiva) (2.27.0)\n",
      "Requirement already satisfied: pooch in /Users/ivanpombo/miniconda3/lib/python3.9/site-packages (from pyvista->inductiva) (1.7.0)\n",
      "Requirement already satisfied: scooby>=0.5.1 in /Users/ivanpombo/miniconda3/lib/python3.9/site-packages (from pyvista->inductiva) (0.7.1)\n",
      "Requirement already satisfied: pandas<2,>=1.4 in /Users/ivanpombo/miniconda3/lib/python3.9/site-packages (from xarray->inductiva) (1.5.3)\n",
      "Requirement already satisfied: zipp>=3.1.0 in /Users/ivanpombo/miniconda3/lib/python3.9/site-packages (from importlib-resources>=3.2.0->matplotlib->inductiva) (3.15.0)\n",
      "Requirement already satisfied: parso<0.9.0,>=0.8.0 in /Users/ivanpombo/miniconda3/lib/python3.9/site-packages (from jedi>=0.16->ipython->inductiva) (0.8.3)\n",
      "Requirement already satisfied: pytz>=2020.1 in /Users/ivanpombo/miniconda3/lib/python3.9/site-packages (from pandas<2,>=1.4->xarray->inductiva) (2023.3)\n",
      "Requirement already satisfied: ptyprocess>=0.5 in /Users/ivanpombo/miniconda3/lib/python3.9/site-packages (from pexpect>4.3->ipython->inductiva) (0.7.0)\n",
      "Requirement already satisfied: wcwidth in /Users/ivanpombo/miniconda3/lib/python3.9/site-packages (from prompt-toolkit!=3.0.37,<3.1.0,>=3.0.30->ipython->inductiva) (0.2.5)\n",
      "Requirement already satisfied: platformdirs>=2.5.0 in /Users/ivanpombo/miniconda3/lib/python3.9/site-packages (from pooch->pyvista->inductiva) (3.2.0)\n",
      "Requirement already satisfied: requests>=2.19.0 in /Users/ivanpombo/miniconda3/lib/python3.9/site-packages (from pooch->pyvista->inductiva) (2.28.1)\n",
      "Requirement already satisfied: markdown-it-py<3.0.0,>=2.2.0 in /Users/ivanpombo/miniconda3/lib/python3.9/site-packages (from rich->meshio->inductiva) (2.2.0)\n",
      "Requirement already satisfied: pure-eval in /Users/ivanpombo/miniconda3/lib/python3.9/site-packages (from stack-data->ipython->inductiva) (0.2.2)\n",
      "Requirement already satisfied: asttokens in /Users/ivanpombo/miniconda3/lib/python3.9/site-packages (from stack-data->ipython->inductiva) (2.0.5)\n",
      "Requirement already satisfied: executing in /Users/ivanpombo/miniconda3/lib/python3.9/site-packages (from stack-data->ipython->inductiva) (0.8.3)\n",
      "Requirement already satisfied: mdurl~=0.1 in /Users/ivanpombo/miniconda3/lib/python3.9/site-packages (from markdown-it-py<3.0.0,>=2.2.0->rich->meshio->inductiva) (0.1.2)\n",
      "Requirement already satisfied: charset-normalizer<3,>=2 in /Users/ivanpombo/miniconda3/lib/python3.9/site-packages (from requests>=2.19.0->pooch->pyvista->inductiva) (2.0.4)\n",
      "Requirement already satisfied: idna<4,>=2.5 in /Users/ivanpombo/miniconda3/lib/python3.9/site-packages (from requests>=2.19.0->pooch->pyvista->inductiva) (3.4)\n"
     ]
    }
   ],
   "source": [
    "# Install the API dependencies and Inductiva modules\n",
    "!pip install inductiva"
   ]
  },
  {
   "cell_type": "code",
   "execution_count": 6,
   "metadata": {},
   "outputs": [
    {
     "ename": "ModuleNotFoundError",
     "evalue": "No module named 'inductiva'",
     "output_type": "error",
     "traceback": [
      "\u001b[0;31m---------------------------------------------------------------------------\u001b[0m",
      "\u001b[0;31mModuleNotFoundError\u001b[0m                       Traceback (most recent call last)",
      "Cell \u001b[0;32mIn[6], line 2\u001b[0m\n\u001b[1;32m      1\u001b[0m \u001b[39m# Import Inductiva module\u001b[39;00m\n\u001b[0;32m----> 2\u001b[0m \u001b[39mimport\u001b[39;00m \u001b[39minductiva\u001b[39;00m\n",
      "\u001b[0;31mModuleNotFoundError\u001b[0m: No module named 'inductiva'"
     ]
    }
   ],
   "source": [
    "# Import Inductiva module\n",
    "import inductiva"
   ]
  },
  {
   "cell_type": "code",
   "execution_count": null,
   "metadata": {},
   "outputs": [],
   "source": [
    "# [TODO] Give some instructions on how to get the API key\n",
    "inductiva.api_key = \"YOUR_API_KEY\""
   ]
  },
  {
   "cell_type": "code",
   "execution_count": 2,
   "metadata": {},
   "outputs": [],
   "source": [
    "# Provide a full path to the input files directory\n",
    "SIM_DIR = \"path/to/input_files\""
   ]
  },
  {
   "cell_type": "code",
   "execution_count": 3,
   "metadata": {},
   "outputs": [],
   "source": [
    "# Initialize a SWASH simulation with the input files\n",
    "swash_sim = inductiva.fluids.SWASH()"
   ]
  },
  {
   "cell_type": "code",
   "execution_count": 4,
   "metadata": {},
   "outputs": [
    {
     "name": "stderr",
     "output_type": "stream",
     "text": [
      "INFO:absl:Request submitted.\n",
      "INFO:absl:An executer has picked up the request.\n",
      "INFO:absl:The requested task is being executed remotely...\n",
      "INFO:absl:Task executed successfuly.\n"
     ]
    }
   ],
   "source": [
    "# Run the simulation on the server\n",
    "output_path = swash_sim.run(\n",
    "    input_dir=SIM_DIR,\n",
    "    sim_config_filename=\"input_file.sws\",\n",
    "    output_dir=\"sim_output\",\n",
    "    n_cores=1,\n",
    ")"
   ]
  },
  {
   "cell_type": "code",
   "execution_count": 5,
   "metadata": {},
   "outputs": [
    {
     "data": {
      "text/plain": [
       "PosixPath('sim_output')"
      ]
     },
     "execution_count": 5,
     "metadata": {},
     "output_type": "execute_result"
    }
   ],
   "source": [
    "output_path"
   ]
  }
 ],
 "metadata": {
  "kernelspec": {
   "display_name": "sph-env",
   "language": "python",
   "name": "python3"
  },
  "language_info": {
   "codemirror_mode": {
    "name": "ipython",
    "version": 3
   },
   "file_extension": ".py",
   "mimetype": "text/x-python",
   "name": "python",
   "nbconvert_exporter": "python",
   "pygments_lexer": "ipython3",
   "version": "3.9.6"
  },
  "orig_nbformat": 4
 },
 "nbformat": 4,
 "nbformat_minor": 2
}
