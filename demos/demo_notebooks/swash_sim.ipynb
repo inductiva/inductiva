{
 "cells": [
  {
   "attachments": {},
   "cell_type": "markdown",
   "metadata": {},
   "source": [
    "### Low-level SWASH smulation\n",
    "Check out our tutorials if you want to learn more about SWASH simulator and engine speed-ups."
   ]
  },
  {
   "cell_type": "code",
   "execution_count": null,
   "metadata": {},
   "outputs": [],
   "source": [
    "# Install the API dependencies and Inductiva modules\n",
    "! pip install inductiva"
   ]
  },
  {
   "cell_type": "code",
   "execution_count": 1,
   "metadata": {},
   "outputs": [],
   "source": [
    "# Import Inductiva module\n",
    "import inductiva"
   ]
  },
  {
   "cell_type": "code",
   "execution_count": null,
   "metadata": {},
   "outputs": [],
   "source": [
    "# [TODO] Give some instructions on how to get the API key\n",
    "inductiva.api_key = \"YOUR_API_KEY\""
   ]
  },
  {
   "cell_type": "code",
   "execution_count": 2,
   "metadata": {},
   "outputs": [],
   "source": [
    "# Provide a full path to the input files directory\n",
    "SIM_DIR = \"path/to/input_files\""
   ]
  },
  {
   "cell_type": "code",
   "execution_count": 3,
   "metadata": {},
   "outputs": [],
   "source": [
    "# Initialize a SWASH simulation with the input files\n",
    "swash_sim = inductiva.fluids.SWASH()"
   ]
  },
  {
   "cell_type": "code",
   "execution_count": 4,
   "metadata": {},
   "outputs": [
    {
     "name": "stderr",
     "output_type": "stream",
     "text": [
      "INFO:absl:Request submitted.\n",
      "INFO:absl:An executer has picked up the request.\n",
      "INFO:absl:The requested task is being executed remotely...\n",
      "INFO:absl:Task executed successfuly.\n"
     ]
    }
   ],
   "source": [
    "# Run the simulation on the server\n",
    "output_path = swash_sim.run(\n",
    "    input_dir=SIM_DIR,\n",
    "    sim_config_filename=\"input_file.sws\",\n",
    "    output_dir=\"sim_output\",\n",
    "    n_cores=1,\n",
    ")"
   ]
  },
  {
   "cell_type": "code",
   "execution_count": 5,
   "metadata": {},
   "outputs": [
    {
     "data": {
      "text/plain": [
       "PosixPath('sim_output')"
      ]
     },
     "execution_count": 5,
     "metadata": {},
     "output_type": "execute_result"
    }
   ],
   "source": [
    "output_path"
   ]
  }
 ],
 "metadata": {
  "kernelspec": {
   "display_name": "sph-env",
   "language": "python",
   "name": "python3"
  },
  "language_info": {
   "codemirror_mode": {
    "name": "ipython",
    "version": 3
   },
   "file_extension": ".py",
   "mimetype": "text/x-python",
   "name": "python",
   "nbconvert_exporter": "python",
   "pygments_lexer": "ipython3",
   "version": "3.10.8"
  },
  "orig_nbformat": 4
 },
 "nbformat": 4,
 "nbformat_minor": 2
}
